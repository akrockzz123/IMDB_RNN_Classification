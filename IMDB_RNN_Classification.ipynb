{
  "nbformat": 4,
  "nbformat_minor": 0,
  "metadata": {
    "colab": {
      "name": "IMDB_RNN_Classification.ipynb",
      "private_outputs": true,
      "provenance": [],
      "authorship_tag": "ABX9TyMIPyhEvIyJn6yVZwdKKoO9",
      "include_colab_link": true
    },
    "kernelspec": {
      "name": "python3",
      "display_name": "Python 3"
    },
    "language_info": {
      "name": "python"
    }
  },
  "cells": [
    {
      "cell_type": "markdown",
      "metadata": {
        "id": "view-in-github",
        "colab_type": "text"
      },
      "source": [
        "<a href=\"https://colab.research.google.com/github/akrockzz123/IMDB_RNN_Classification/blob/main/IMDB_RNN_Classification.ipynb\" target=\"_parent\"><img src=\"https://colab.research.google.com/assets/colab-badge.svg\" alt=\"Open In Colab\"/></a>"
      ]
    },
    {
      "cell_type": "code",
      "metadata": {
        "id": "T0BKPz1i1QtB"
      },
      "source": [
        "from keras.datasets import imdb\n",
        "\n",
        "((XT,YT),(Xt,Yt)) = imdb.load_data(num_words = 10000)"
      ],
      "execution_count": null,
      "outputs": []
    },
    {
      "cell_type": "code",
      "metadata": {
        "id": "Rb_IUbBJ14wf"
      },
      "source": [
        "print(len(XT))\n",
        "print(len(Xt))"
      ],
      "execution_count": null,
      "outputs": []
    },
    {
      "cell_type": "markdown",
      "metadata": {
        "id": "hNTLxeXN2cyd"
      },
      "source": [
        ""
      ]
    },
    {
      "cell_type": "code",
      "metadata": {
        "id": "7Tdsalm72gpS"
      },
      "source": [
        ""
      ],
      "execution_count": null,
      "outputs": []
    },
    {
      "cell_type": "code",
      "metadata": {
        "id": "R4d0Et-82K1G"
      },
      "source": [
        "print(XT[0])"
      ],
      "execution_count": null,
      "outputs": []
    },
    {
      "cell_type": "code",
      "metadata": {
        "id": "bX6IYhXb2pln"
      },
      "source": [
        "word_idx = imdb.get_word_index()"
      ],
      "execution_count": null,
      "outputs": []
    },
    {
      "cell_type": "code",
      "metadata": {
        "id": "uKUTppIE2uiz"
      },
      "source": [
        "print(word_idx.items())"
      ],
      "execution_count": null,
      "outputs": []
    },
    {
      "cell_type": "code",
      "metadata": {
        "id": "1X_-sjjP20kB"
      },
      "source": [
        "idx_words = dict([value,key] for (key,value) in word_idx.items())\n",
        "\n",
        "print(idx_words)"
      ],
      "execution_count": null,
      "outputs": []
    },
    {
      "cell_type": "code",
      "metadata": {
        "id": "4hN_ggWz6-Vd"
      },
      "source": [
        "!jupyter notebook --NotebookApp.iopub_data_rate_limit=1e10"
      ],
      "execution_count": null,
      "outputs": []
    },
    {
      "cell_type": "code",
      "metadata": {
        "id": "3T_pa92H3evb"
      },
      "source": [
        ""
      ],
      "execution_count": null,
      "outputs": []
    },
    {
      "cell_type": "code",
      "metadata": {
        "id": "-IXQYJ9c4Mem"
      },
      "source": [
        "actual_review = ' '.join([idx_words.get(idx-3,'?') for idx in XT[0]])\n",
        "\n",
        "print(actual_review)\n",
        "print(len(actual_review.split()))"
      ],
      "execution_count": null,
      "outputs": []
    },
    {
      "cell_type": "code",
      "metadata": {
        "id": "4EfzQoZQ76Vq"
      },
      "source": [
        "## create a 2d tensor to be processed by the embedding layer\n",
        "\n",
        "from keras.preprocessing import sequence\n",
        "\n",
        "X_train = sequence.pad_sequences(XT,maxlen=500)\n",
        "\n",
        "X_test = sequence.pad_sequences(Xt,maxlen=500)\n",
        "\n",
        "print(X_train.shape)\n",
        "print(X_test.shape)"
      ],
      "execution_count": null,
      "outputs": []
    },
    {
      "cell_type": "code",
      "metadata": {
        "id": "2JcYACFZNDK_"
      },
      "source": [
        "from keras.layers import Embedding,SimpleRNN,Dense\n",
        "from keras.models import Sequential\n",
        "\n",
        "model = Sequential()\n",
        "\n",
        "model.add(Embedding(10000,10))\n",
        "\n",
        "model.add(SimpleRNN(32))\n",
        "\n",
        "model.add(Dense(1,activation='sigmoid'))\n",
        "model.summary();"
      ],
      "execution_count": null,
      "outputs": []
    },
    {
      "cell_type": "code",
      "metadata": {
        "id": "3Y0bf9YBlvSG"
      },
      "source": [
        "model.compile(optimizer='rmsprop',loss='binary_crossentropy',metrics=['acc'])"
      ],
      "execution_count": null,
      "outputs": []
    },
    {
      "cell_type": "markdown",
      "metadata": {
        "id": "TnEtgbnApVBK"
      },
      "source": [
        "from keras.call"
      ]
    },
    {
      "cell_type": "code",
      "metadata": {
        "id": "09RpcyOVNyhc"
      },
      "source": [
        "from keras.callbacks import ModelCheckpoint ## save the best model\n",
        "\n",
        "from keras.callbacks import EarlyStopping ## save time\n",
        "\n",
        "checkpoint = ModelCheckpoint(\n",
        "    'best_model.h5',\n",
        "    monitor=\"val_loss\",\n",
        "    verbose=0,\n",
        "    save_best_only=True,\n",
        "    save_weights_only=True,\n",
        "    mode=\"auto\",\n",
        "    save_freq=\"epoch\",\n",
        "    options=None\n",
        ")\n",
        "\n",
        "earlystop = EarlyStopping(monitor='val-acc',patience=0)\n",
        "\n",
        "model.fit(X_train,YT,validation_split=0.2,batch_size=128,epochs=10,callbacks = [checkpoint,earlystop])"
      ],
      "execution_count": null,
      "outputs": []
    },
    {
      "cell_type": "code",
      "metadata": {
        "id": "t63B1ZGuu-b7"
      },
      "source": [
        ""
      ],
      "execution_count": null,
      "outputs": []
    },
    {
      "cell_type": "code",
      "metadata": {
        "id": "CiHKXDv8hp6Q"
      },
      "source": [
        "model.save(\"my_model.h5\") ## save model as hd5 format save on disk"
      ],
      "execution_count": null,
      "outputs": []
    },
    {
      "cell_type": "markdown",
      "metadata": {
        "id": "nT97wCRwtKj-"
      },
      "source": [
        ""
      ]
    },
    {
      "cell_type": "markdown",
      "metadata": {
        "id": "XxvjLfGnuejb"
      },
      "source": [
        ""
      ]
    },
    {
      "cell_type": "code",
      "metadata": {
        "id": "wqpw1cFwtI_d"
      },
      "source": [
        "!ls"
      ],
      "execution_count": null,
      "outputs": []
    },
    {
      "cell_type": "markdown",
      "metadata": {
        "id": "rLSPoVjAUOr5"
      },
      "source": [
        ""
      ]
    },
    {
      "cell_type": "code",
      "metadata": {
        "id": "qJjUveWXtPNW"
      },
      "source": [
        "model.load_weights('best_model.h5')"
      ],
      "execution_count": null,
      "outputs": []
    },
    {
      "cell_type": "code",
      "metadata": {
        "id": "h_sDLl9utk1t"
      },
      "source": [
        "model.evaluate(X_test,Yt)"
      ],
      "execution_count": null,
      "outputs": []
    },
    {
      "cell_type": "code",
      "metadata": {
        "id": "g61emz4ktveU"
      },
      "source": [
        "model.evaluate(X_train,YT)"
      ],
      "execution_count": null,
      "outputs": []
    },
    {
      "cell_type": "code",
      "metadata": {
        "id": "LDj4g-piulwL"
      },
      "source": [
        ""
      ],
      "execution_count": null,
      "outputs": []
    }
  ]
}